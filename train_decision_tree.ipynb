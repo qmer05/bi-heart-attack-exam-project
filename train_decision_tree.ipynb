{
 "cells": [
  {
   "cell_type": "code",
   "execution_count": 5,
   "id": "e14e1bc9",
   "metadata": {},
   "outputs": [
    {
     "name": "stdout",
     "output_type": "stream",
     "text": [
      "✅ Calibrated Decision Tree saved to outputs/models/decision_tree_model.pkl\n"
     ]
    }
   ],
   "source": [
    "import pandas as pd\n",
    "import numpy as np\n",
    "from sklearn.model_selection import train_test_split\n",
    "from sklearn.tree import DecisionTreeClassifier\n",
    "from sklearn.calibration import CalibratedClassifierCV\n",
    "import joblib\n",
    "\n",
    "# 1) Load and prepare data\n",
    "df = pd.read_csv('data/cleaned_Medicaldataset.csv')\n",
    "df['Result_binary'] = df['Result'].map({'negative': 0, 'positive': 1})\n",
    "df['pulse_pressure'] = df['Systolic blood pressure'] - df['Diastolic blood pressure']\n",
    "\n",
    "features = [\n",
    "    'Age', 'Heart rate', 'Systolic blood pressure', 'Diastolic blood pressure',\n",
    "    'Blood sugar', 'CK-MB', 'Troponin', 'pulse_pressure'\n",
    "]\n",
    "X = df[features].values\n",
    "y = df['Result_binary'].values\n",
    "\n",
    "# 2) Split into train/test\n",
    "X_train, X_test, y_train, y_test = train_test_split(\n",
    "    X, y,\n",
    "    test_size=0.2,\n",
    "    random_state=42,\n",
    "    stratify=y\n",
    ")\n",
    "\n",
    "# 3) Train a more regularized tree\n",
    "base_tree = DecisionTreeClassifier(\n",
    "    max_depth=4,           # limit depth\n",
    "    min_samples_leaf=10,   # require ≥10 samples per leaf\n",
    "    random_state=42\n",
    ")\n",
    "base_tree.fit(X_train, y_train)\n",
    "\n",
    "# 4) Calibrate its probabilities via Platt scaling\n",
    "calibrated_tree = CalibratedClassifierCV(\n",
    "    estimator=base_tree,      # <-- updated argument name\n",
    "    method='sigmoid',         # Platt scaling\n",
    "    cv=5\n",
    ")\n",
    "calibrated_tree.fit(X_train, y_train)\n",
    "\n",
    "# 5) Save *this* calibrated model (overwrites the old file)\n",
    "joblib.dump(\n",
    "    calibrated_tree,\n",
    "    'outputs/models/decision_tree_model.pkl'\n",
    ")\n",
    "print(\"✅ Calibrated Decision Tree saved to outputs/models/decision_tree_model.pkl\")\n"
   ]
  }
 ],
 "metadata": {
  "kernelspec": {
   "display_name": "Python 3",
   "language": "python",
   "name": "python3"
  },
  "language_info": {
   "codemirror_mode": {
    "name": "ipython",
    "version": 3
   },
   "file_extension": ".py",
   "mimetype": "text/x-python",
   "name": "python",
   "nbconvert_exporter": "python",
   "pygments_lexer": "ipython3",
   "version": "3.12.6"
  }
 },
 "nbformat": 4,
 "nbformat_minor": 5
}
